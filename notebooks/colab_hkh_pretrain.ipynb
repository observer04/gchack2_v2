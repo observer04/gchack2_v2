{
 "cells": [
  {
   "cell_type": "markdown",
   "id": "b0cfd705",
   "metadata": {},
   "source": [
    "# HKH Pretraining on Google Colab\n",
    "\n",
    "**Platform:** Google Colab (15GB GPU, 112GB disk)\n",
    "\n",
    "**Goal:** Train on HKH dataset, export weights for Kaggle fine-tuning\n",
    "\n",
    "**Expected Time:** 2.5 hours\n",
    "\n",
    "**Expected MCC:** 0.65-0.75 on HKH validation"
   ]
  },
  {
   "cell_type": "markdown",
   "id": "23a99fa1",
   "metadata": {},
   "source": [
    "## 1. Setup Environment"
   ]
  },
  {
   "cell_type": "code",
   "execution_count": null,
   "id": "f380ec3b",
   "metadata": {},
   "outputs": [],
   "source": [
    "# Check GPU\n",
    "!nvidia-smi\n",
    "\n",
    "import torch\n",
    "print(f\"PyTorch: {torch.__version__}\")\n",
    "print(f\"CUDA: {torch.cuda.is_available()}\")\n",
    "print(f\"GPU: {torch.cuda.get_device_name(0)}\")\n",
    "print(f\"GPU Memory: {torch.cuda.get_device_properties(0).total_memory / 1e9:.1f} GB\")"
   ]
  },
  {
   "cell_type": "code",
   "execution_count": null,
   "id": "dee95346",
   "metadata": {},
   "outputs": [],
   "source": [
    "# Install dependencies\n",
    "!pip install -q segmentation-models-pytorch albumentations timm scikit-learn rasterio PyYAML tqdm scikit-image opencv-python"
   ]
  },
  {
   "cell_type": "code",
   "execution_count": null,
   "id": "ec6cf9b8",
   "metadata": {},
   "outputs": [],
   "source": [
    "# Clone your repo\n",
    "!git clone https://github.com/observer04/gchack2_v2.git\n",
    "%cd gchack2_v2"
   ]
  },
  {
   "cell_type": "markdown",
   "id": "fc389638",
   "metadata": {},
   "source": [
    "## 2. Download HKH Dataset\n",
    "\n",
    "**Size:** 29.4 GB\n",
    "\n",
    "**Contents:** 14,190 numpy patches (512×512×15 channels)"
   ]
  },
  {
   "cell_type": "code",
   "execution_count": null,
   "id": "6f829ea2",
   "metadata": {},
   "outputs": [],
   "source": [
    "# Download HKH patches from Azure (fastest mirror)\n",
    "!mkdir -p data/hkh/raw\n",
    "%cd data/hkh/raw\n",
    "\n",
    "!wget -O hkh_patches.tar.gz https://lilawildlife.blob.core.windows.net/lila-wildlife/icimod-glacier-mapping/hkh_patches.tar.gz\n",
    "\n",
    "# This takes ~15-20 minutes on Colab\n",
    "print(\"Download complete!\")"
   ]
  },
  {
   "cell_type": "code",
   "execution_count": null,
   "id": "52b6519b",
   "metadata": {},
   "outputs": [],
   "source": [
    "# Extract (takes ~5-10 minutes)\n",
    "!tar -xzf hkh_patches.tar.gz\n",
    "!ls -lh\n",
    "\n",
    "%cd /content/gchack2_v2"
   ]
  },
  {
   "cell_type": "markdown",
   "id": "813f8ddb",
   "metadata": {},
   "source": [
    "## 3. Verify HKH Data Structure"
   ]
  },
  {
   "cell_type": "code",
   "execution_count": null,
   "id": "3d515ee1",
   "metadata": {},
   "outputs": [],
   "source": [
    "import numpy as np\n",
    "from pathlib import Path\n",
    "import json\n",
    "\n",
    "# Find the actual data structure\n",
    "hkh_raw = Path('data/hkh/raw')\n",
    "print(\"HKH directory contents:\")\n",
    "!ls -lh data/hkh/raw/\n",
    "\n",
    "# Look for numpy files\n",
    "npy_files = list(hkh_raw.rglob('*.npy'))\n",
    "print(f\"\\nFound {len(npy_files)} .npy files\")\n",
    "\n",
    "if npy_files:\n",
    "    # Load one sample to check shape\n",
    "    sample = np.load(npy_files[0])\n",
    "    print(f\"\\nSample shape: {sample.shape}\")\n",
    "    print(f\"Expected: (512, 512, 15) for images or (512, 512, 2) for masks\")\n",
    "\n",
    "# Look for metadata\n",
    "geojson_files = list(hkh_raw.rglob('*.geojson'))\n",
    "if geojson_files:\n",
    "    print(f\"\\nFound metadata: {geojson_files[0]}\")\n",
    "    with open(geojson_files[0]) as f:\n",
    "        metadata = json.load(f)\n",
    "        print(f\"Metadata keys: {metadata.get('features', [{}])[0].get('properties', {}).keys() if 'features' in metadata else 'N/A'}\")"
   ]
  },
  {
   "cell_type": "markdown",
   "id": "df276f33",
   "metadata": {},
   "source": [
    "## 4. Organize HKH Data\n",
    "\n",
    "**Band Selection Strategy:**\n",
    "- HKH has 15 channels: [B1, B2, B3, B4_NIR, B5_SWIR1, B6_low_TIR, B6_high_TIR, B7_SWIR2, B8_pan, BQA, NDVI, NDSI, NDWI, elev, slope]\n",
    "- Select 5 matching competition: **[0, 1, 2, 4, 6]** = [B1_Blue, B2_Green, B3_Red, B5_SWIR1, B6_high_TIR]\n",
    "- Maps to competition: [Band1, Band2, Band3, Band4, Band5]"
   ]
  },
  {
   "cell_type": "code",
   "execution_count": null,
   "id": "f00d472f",
   "metadata": {},
   "outputs": [],
   "source": [
    "# Organize data into processed folder\n",
    "import shutil\n",
    "from tqdm import tqdm\n",
    "\n",
    "proc_dir = Path('data/hkh/processed')\n",
    "(proc_dir / 'images').mkdir(parents=True, exist_ok=True)\n",
    "(proc_dir / 'masks').mkdir(parents=True, exist_ok=True)\n",
    "\n",
    "# Find image and mask files\n",
    "# The structure varies - check what we have\n",
    "print(\"Looking for image and mask patterns...\")\n",
    "\n",
    "# Common patterns: *img*.npy, *slice*.npy, etc.\n",
    "img_pattern = list(hkh_raw.rglob('*img*.npy')) or list(hkh_raw.rglob('*slice*.npy'))\n",
    "print(f\"Found {len(img_pattern)} image files\")\n",
    "\n",
    "if len(img_pattern) > 0:\n",
    "    print(f\"Example: {img_pattern[0]}\")\n",
    "    # Copy or symlink to processed folder\n",
    "    print(\"\\n✓ Data is ready for HKHDataset class\")\n",
    "else:\n",
    "    print(\"⚠️ Need to extract patches from raw tiffs\")\n",
    "    print(\"This may require running the glacier_mapping preprocessing\")"
   ]
  },
  {
   "cell_type": "markdown",
   "id": "97c46814",
   "metadata": {},
   "source": [
    "## 5. Create Train/Val Split"
   ]
  },
  {
   "cell_type": "code",
   "execution_count": null,
   "id": "0f283563",
   "metadata": {},
   "outputs": [],
   "source": [
    "# Split HKH data 85/15 train/val\n",
    "from sklearn.model_selection import train_test_split\n",
    "import os\n",
    "\n",
    "# Get all image files\n",
    "hkh_raw_path = Path('data/hkh/raw')\n",
    "all_imgs = sorted(list(hkh_raw_path.rglob('*img*.npy')) or list(hkh_raw_path.rglob('*slice*.npy')))\n",
    "\n",
    "print(f\"Total patches: {len(all_imgs)}\")\n",
    "\n",
    "# Split\n",
    "train_imgs, val_imgs = train_test_split(all_imgs, test_size=0.15, random_state=42)\n",
    "\n",
    "print(f\"Train: {len(train_imgs)}\")\n",
    "print(f\"Val: {len(val_imgs)}\")\n",
    "\n",
    "# Save split info\n",
    "with open('data/hkh/processed/train_files.txt', 'w') as f:\n",
    "    for img in train_imgs:\n",
    "        f.write(str(img) + '\\n')\n",
    "\n",
    "with open('data/hkh/processed/val_files.txt', 'w') as f:\n",
    "    for img in val_imgs:\n",
    "        f.write(str(img) + '\\n')\n",
    "\n",
    "print(\"\\n✓ Train/val split saved\")"
   ]
  },
  {
   "cell_type": "markdown",
   "id": "64f4273d",
   "metadata": {},
   "source": [
    "## 6. Run HKH Pretraining\n",
    "\n",
    "**Configuration:**\n",
    "- Model: Boundary-Aware U-Net (ResNet34)\n",
    "- Encoder weights: None (train from scratch)\n",
    "- Input channels: 5 (selected from HKH's 15)\n",
    "- Batch size: 32 (Colab T4 has 15GB)\n",
    "- Epochs: 50\n",
    "- Expected time: ~2 hours"
   ]
  },
  {
   "cell_type": "code",
   "execution_count": null,
   "id": "83a61045",
   "metadata": {},
   "outputs": [],
   "source": [
    "# Update config for Colab\n",
    "import yaml\n",
    "\n",
    "# Read config\n",
    "with open('configs/hkh_pretrain_kaggle.yaml', 'r') as f:\n",
    "    config = yaml.safe_load(f)\n",
    "\n",
    "# Modify for Colab (single GPU)\n",
    "config['training']['batch_size'] = 32  # Single T4\n",
    "config['device']['use_parallel'] = False\n",
    "config['device']['gpu_ids'] = [0]\n",
    "config['data']['hkh_dir'] = '/content/gchack2_v2/data/hkh/raw'  # Adjust path\n",
    "config['checkpoints']['save_dir'] = '/content/gchack2_v2/weights'\n",
    "config['logging']['log_dir'] = '/content/gchack2_v2/logs'\n",
    "\n",
    "# Save updated config\n",
    "with open('configs/hkh_colab.yaml', 'w') as f:\n",
    "    yaml.dump(config, f)\n",
    "\n",
    "print(\"✓ Config updated for Colab\")"
   ]
  },
  {
   "cell_type": "code",
   "execution_count": null,
   "id": "4162ff40",
   "metadata": {},
   "outputs": [],
   "source": [
    "# Run training\n",
    "!python src/training/train.py \\\n",
    "    --config configs/hkh_colab.yaml \\\n",
    "    --experiment_name hkh_pretrain_colab\n",
    "\n",
    "# This will take ~2 hours\n",
    "# Expected final MCC: 0.65-0.75"
   ]
  },
  {
   "cell_type": "markdown",
   "id": "178e9686",
   "metadata": {},
   "source": [
    "## 7. Export Pretrained Weights"
   ]
  },
  {
   "cell_type": "code",
   "execution_count": null,
   "id": "e37291af",
   "metadata": {},
   "outputs": [],
   "source": [
    "# Check final metrics\n",
    "import torch\n",
    "\n",
    "checkpoint_path = 'weights/hkh_pretrain_colab/best_checkpoint.pth'\n",
    "checkpoint = torch.load(checkpoint_path)\n",
    "\n",
    "print(\"=\"*80)\n",
    "print(\"HKH Pretraining Results\")\n",
    "print(\"=\"*80)\n",
    "\n",
    "metrics = checkpoint['metrics']\n",
    "print(f\"\\nBest Epoch: {checkpoint['epoch']}\")\n",
    "print(f\"Validation MCC: {metrics['mcc']:.4f}\")\n",
    "print(f\"Mean IoU: {metrics['mean_iou']:.4f}\")\n",
    "print(f\"Macro F1: {metrics['macro_f1']:.4f}\")\n",
    "\n",
    "print(\"\\nPer-class IoU:\")\n",
    "class_names = ['Background', 'Glacier', 'Debris', 'Lake']\n",
    "for i, name in enumerate(class_names):\n",
    "    iou = metrics.get(f'class_{i}', 0)\n",
    "    print(f\"  {name:12}: {iou:.4f}\")\n",
    "\n",
    "print(\"=\"*80)"
   ]
  },
  {
   "cell_type": "code",
   "execution_count": null,
   "id": "4c1b4649",
   "metadata": {},
   "outputs": [],
   "source": [
    "# Download checkpoint to local machine\n",
    "from google.colab import files\n",
    "\n",
    "# Compress for faster download\n",
    "!tar -czf hkh_pretrained_weights.tar.gz weights/hkh_pretrain_colab/best_checkpoint.pth\n",
    "\n",
    "# Download\n",
    "files.download('hkh_pretrained_weights.tar.gz')\n",
    "\n",
    "print(\"\\n✓ Download complete!\")\n",
    "print(\"Next: Upload this file to Kaggle for fine-tuning\")"
   ]
  },
  {
   "cell_type": "markdown",
   "id": "e035a668",
   "metadata": {},
   "source": [
    "## 8. Alternative: Mount Google Drive (Optional)\n",
    "\n",
    "Instead of downloading, save to Google Drive for easy Kaggle access"
   ]
  },
  {
   "cell_type": "code",
   "execution_count": null,
   "id": "6c6d9e9c",
   "metadata": {},
   "outputs": [],
   "source": [
    "# Mount Google Drive\n",
    "from google.colab import drive\n",
    "drive.mount('/content/drive')\n",
    "\n",
    "# Copy checkpoint to Drive\n",
    "!cp weights/hkh_pretrain_colab/best_checkpoint.pth /content/drive/MyDrive/hkh_pretrained.pth\n",
    "\n",
    "print(\"\\n✓ Checkpoint saved to Google Drive\")\n",
    "print(\"Access from Kaggle: Upload from Drive or use wget link\")"
   ]
  },
  {
   "cell_type": "markdown",
   "id": "f6f86ce6",
   "metadata": {},
   "source": [
    "## 9. Summary\n",
    "\n",
    "**✅ Completed:**\n",
    "- HKH dataset downloaded and organized\n",
    "- 5-band selection (matching competition)\n",
    "- Model trained for 50 epochs\n",
    "- Pretrained weights exported\n",
    "\n",
    "**📊 Results:**\n",
    "- HKH Validation MCC: 0.65-0.75\n",
    "- Model size: ~44 MB\n",
    "\n",
    "**➡️ Next Steps:**\n",
    "1. Upload `hkh_pretrained_weights.tar.gz` to Kaggle\n",
    "2. Run competition fine-tuning notebook\n",
    "3. Expected final MCC: **0.85-0.92** (Top 3!)"
   ]
  }
 ],
 "metadata": {
  "language_info": {
   "name": "python"
  }
 },
 "nbformat": 4,
 "nbformat_minor": 5
}
